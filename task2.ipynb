{
 "cells": [
  {
   "cell_type": "code",
   "execution_count": 144,
   "metadata": {},
   "outputs": [],
   "source": [
    "import matplotlib.pyplot as plt\n",
    "import numpy as np\n",
    "import scipy.sparse as spsp\n",
    "import scipy.sparse.linalg as splinalg\n",
    "\n",
    "class DiffOperator:\n",
    "    def __init__(self, n):\n",
    "        self.N = n\n",
    "        self.h = 1.0 / (n + 1)\n",
    "        self.X = np.linspace(0, 1, n + 2)\n",
    "        \n",
    "        self.D2 = (1.0/(self.h)**2) * spsp.diags([1, -2, 1], [-1, 0, 1], shape=(n, n))\n",
    "        self.RHS = [self.func_rhs(self.X[i]) for i in range(1, n + 1)]\n",
    "        self.SOL = [self.func_solution(self.X[i]) for i in range(1, n + 1)]\n",
    "        \n",
    "    def func_solution(self, x):\n",
    "        return x*(1 - x)\n",
    "    \n",
    "    def func_rhs(self, x):\n",
    "        return 2 - np.sin(x*(1 - x))\n",
    "        \n",
    "    def apply(self, u):\n",
    "        return self.D2.dot(u) + np.sin(u) + self.RHS\n",
    "    \n",
    "    def J(self, u):\n",
    "        return self.D2 + spsp.diags(np.cos(u), 0)\n",
    "    \n",
    "    def J_approx(self, u, h):\n",
    "        unorm = np.linalg.norm(u)\n",
    "        e = np.eye(self.N)\n",
    "        if unorm == 0:\n",
    "            return np.array([ (self.apply(u + h*e[i]) - self.apply(u)) / (h) for i in range(0, self.N) ]).transpose()\n",
    "        else:\n",
    "            return np.array([ (self.apply(u + h*unorm*e[i]) - self.apply(u)) / (h*unorm) for i in range(0, self.N) ]).transpose()\n",
    "        \n",
    "        "
   ]
  },
  {
   "cell_type": "code",
   "execution_count": 145,
   "metadata": {},
   "outputs": [
    {
     "name": "stdout",
     "output_type": "stream",
     "text": [
      "[[-72.  36.   0.   0.   0.]\n",
      " [ 36. -72.  36.   0.   0.]\n",
      " [  0.  36. -72.  36.   0.]\n",
      " [  0.   0.  36. -72.  36.]\n",
      " [  0.   0.   0.  36. -72.]]\n",
      "\n",
      "[[-71.45969769  36.           0.           0.           0.        ]\n",
      " [ 36.         -72.41614684  36.           0.           0.        ]\n",
      " [  0.          36.         -72.9899925   36.           0.        ]\n",
      " [  0.           0.          36.         -72.65364362  36.        ]\n",
      " [  0.           0.           0.          36.         -71.71633781]]\n",
      "\n",
      "[[-71.4597289   36.           0.           0.           0.        ]\n",
      " [ 36.         -72.41618055  36.           0.           0.        ]\n",
      " [  0.          36.         -72.98999773  36.           0.        ]\n",
      " [  0.           0.          36.         -72.65361556  36.        ]\n",
      " [  0.           0.           0.          36.         -71.71630226]]\n"
     ]
    }
   ],
   "source": [
    "D = DiffOperator(5)\n",
    "u = [1, 2, 3, 4, 5]\n",
    "print(D.D2.todense())\n",
    "print( )\n",
    "print(D.J(u).todense())\n",
    "print( )\n",
    "print(D.J_approx(u, 1e-5))"
   ]
  },
  {
   "cell_type": "code",
   "execution_count": 156,
   "metadata": {},
   "outputs": [
    {
     "name": "stdout",
     "output_type": "stream",
     "text": [
      "Iterations: 2 and final error: 2.673135e-09\n"
     ]
    }
   ],
   "source": [
    "# Newton method with analytical J\n",
    "def newton_true(D, atol, rtol, maxiters):\n",
    "    n = D.N\n",
    "    u = np.zeros(n)\n",
    "    r0 = np.linalg.norm(D.apply(u))\n",
    "    r = r0\n",
    "    iters = 0\n",
    "    errs_newtontrue = []\n",
    "\n",
    "    while r > rtol*r0 + atol and iters < maxiters:\n",
    "        s = spsp.linalg.spsolve(D.J(u), -D.apply(u))\n",
    "        u = u + s\n",
    "        r = np.linalg.norm(D.apply(u))\n",
    "        errs_newtontrue.append(np.linalg.norm(D.SOL - u))\n",
    "        iters = iters + 1\n",
    "\n",
    "    return iters, errs_newtontrue\n",
    "        \n",
    "atol = 1e-10; rtol = 1e-8; maxiters = 1000\n",
    "n = 40\n",
    "D = DiffOperator(n)\n",
    "iters, errs_newtontrue = newton_true(D, atol, rtol, maxiters)\n",
    "print(\"Iterations: %d and final error: %e\" % (iters, errs_newtontrue[-1]))"
   ]
  },
  {
   "cell_type": "code",
   "execution_count": 157,
   "metadata": {},
   "outputs": [
    {
     "name": "stdout",
     "output_type": "stream",
     "text": [
      "Iterations: 2 and final error: 2.823722e-09\n"
     ]
    }
   ],
   "source": [
    "# Newton method with approx J\n",
    "def newton_approx(D, atol, rtol, h, maxiters):\n",
    "    n = D.N\n",
    "    u = np.zeros(n)\n",
    "    r0 = np.linalg.norm(D.apply(u))\n",
    "    r = r0\n",
    "    iters = 0\n",
    "    errs_newtonapprox = []\n",
    "\n",
    "    while r > rtol*r0 + atol and iters < maxiters:\n",
    "        s = np.linalg.solve(D.J_approx(u, h), -D.apply(u))\n",
    "        u = u + s\n",
    "        r = np.linalg.norm(D.apply(u))\n",
    "        errs_newtonapprox.append(np.linalg.norm(D.SOL - u))\n",
    "        iters = iters + 1\n",
    "\n",
    "    return iters, errs_newtonapprox\n",
    "\n",
    "atol = 1e-10; rtol = 1e-8; h = 1e-5; maxiters = 1000\n",
    "n = 40\n",
    "D = DiffOperator(n)\n",
    "iters, errs_newtonapprox = newton_approx(D, atol, rtol, h, maxiters)\n",
    "print(\"Iterations: %d and final error: %e\" % (iters, errs_newtonapprox[-1]))"
   ]
  },
  {
   "cell_type": "code",
   "execution_count": 149,
   "metadata": {},
   "outputs": [
    {
     "name": "stdout",
     "output_type": "stream",
     "text": [
      "Iterations: 91 and final error: 5.760204e-12\n"
     ]
    }
   ],
   "source": [
    "# Broyden Method\n",
    "def broyden(D, atol, rtol, maxiters):\n",
    "    n = D.N\n",
    "    u = np.zeros(n)\n",
    "    r0 = np.linalg.norm(D.apply(u))\n",
    "    r = r0\n",
    "    B = np.eye(n)\n",
    "\n",
    "    iters = 0\n",
    "    errs_broyden = []\n",
    "\n",
    "    while r > rtol*r0 + atol and iters < maxiters:\n",
    "        s = np.linalg.solve(B, -D.apply(u))\n",
    "        u = u + s\n",
    "        r = np.linalg.norm(D.apply(u))\n",
    "        B = B + (D.apply(u).reshape(n, 1)).dot(s.reshape(1, n)) / s.dot(s)\n",
    "        errs_broyden.append(np.linalg.norm(D.SOL - u))\n",
    "        iters = iters + 1\n",
    "\n",
    "    return iters, errs_broyden\n",
    "\n",
    "atol = 1e-10; rtol = 1e-8; maxiters = 1000\n",
    "n = 40\n",
    "D = DiffOperator(n)\n",
    "iters, errs_broyden = broyden(D, atol, rtol, maxiters)\n",
    "print(\"Iterations: %d and final error: %e\" % (iters, errs_broyden[-1]))"
   ]
  },
  {
   "cell_type": "code",
   "execution_count": 158,
   "metadata": {},
   "outputs": [
    {
     "data": {
      "text/plain": [
       "<matplotlib.legend.Legend at 0x7f64c1395908>"
      ]
     },
     "execution_count": 158,
     "metadata": {},
     "output_type": "execute_result"
    },
    {
     "data": {
      "image/png": "[encoded data removed]",
      "text/plain": [
       "<Figure size 720x576 with 1 Axes>"
      ]
     },
     "metadata": {
      "needs_background": "light"
     },
     "output_type": "display_data"
    }
   ],
   "source": [
    "plt.figure(figsize=(10, 8))\n",
    "plt.plot(errs_newtontrue, label=\"Newton with true J\")\n",
    "plt.plot(errs_newtonapprox, label=\"Newton with approx J\")\n",
    "plt.plot(errs_broyden, label=\"Broyden method\")\n",
    "plt.title(\"Compare convergence\", fontsize=14)\n",
    "plt.xlabel(\"Iteration number\", fontsize=12)\n",
    "plt.yscale('log')\n",
    "plt.ylabel(\"error norm\", fontsize=12)\n",
    "plt.legend()\n"
   ]
  },
  {
   "cell_type": "code",
   "execution_count": null,
   "metadata": {},
   "outputs": [],
   "source": []
  }
 ],
 "metadata": {
  "kernelspec": {
   "display_name": "Python 3",
   "language": "python",
   "name": "python3"
  },
  "language_info": {
   "codemirror_mode": {
    "name": "ipython",
    "version": 3
   },
   "file_extension": ".py",
   "mimetype": "text/x-python",
   "name": "python",
   "nbconvert_exporter": "python",
   "pygments_lexer": "ipython3",
   "version": "3.7.1"
  }
 },
 "nbformat": 4,
 "nbformat_minor": 2
}
